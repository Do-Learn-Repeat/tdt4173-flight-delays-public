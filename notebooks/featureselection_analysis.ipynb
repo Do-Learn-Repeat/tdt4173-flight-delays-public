{
 "metadata": {
  "language_info": {
   "codemirror_mode": {
    "name": "ipython",
    "version": 3
   },
   "file_extension": ".py",
   "mimetype": "text/x-python",
   "name": "python",
   "nbconvert_exporter": "python",
   "pygments_lexer": "ipython3",
   "version": "3.8.1-final"
  },
  "orig_nbformat": 2,
  "kernelspec": {
   "name": "python3",
   "display_name": "Python 3"
  }
 },
 "nbformat": 4,
 "nbformat_minor": 2,
 "cells": [
  {
   "cell_type": "code",
   "execution_count": 1,
   "metadata": {},
   "outputs": [],
   "source": [
    "from enum import Enum\n",
    "import pandas as pd\n",
    "import numpy as np\n",
    "import matplotlib.pyplot as plt\n",
    "\n",
    "# Available locations\n",
    "class Location(Enum):\n",
    "    OSLO = \"OSL\"\n",
    "    TRONDHEIM = \"TRD\"\n",
    "\n",
    "LOCATION = Location.OSLO"
   ]
  },
  {
   "source": [
    "# Label Encoding"
   ],
   "cell_type": "markdown",
   "metadata": {}
  },
  {
   "cell_type": "code",
   "execution_count": 2,
   "metadata": {},
   "outputs": [
    {
     "output_type": "stream",
     "name": "stdout",
     "text": [
      "   YEAR  MONTH  DAY_OF_MONTH  WEEKDAY  HOUR    DEP_ARR AIRLINE_IATA FLIGHT_ID  \\\n0  2016      1             1        4     6  DEPARTURE           AF    AF1275   \n1  2016      1             1        4     7    ARRIVAL           SK     SK843   \n2  2016      1             1        4     7  DEPARTURE           WF     WF124   \n3  2016      1             1        4     8    ARRIVAL           AY     AY651   \n4  2016      1             1        4     8  DEPARTURE           SK     SK864   \n\n  TO_FROM INT_DOM_SCHENGEN GATE_STAND  PRECIPITATION  WIND_DIRECTION  \\\n0     CDG                S         39            0.0               0   \n1     ARN                S         39            0.2             100   \n2     FRO                D          2            0.2             100   \n3     HEL                S        185            0.2             100   \n4     ARN                S         39            0.2             100   \n\n   VISIBILITY  AIR_TEMPERATURE  WIND_SPEED  TARGET  \n0        7000                0         1.0       0  \n1        2900                0         1.5       0  \n2        2900                0         1.5       0  \n3        2900                0         1.5       0  \n4        2900                0         2.1       0  \n"
     ]
    }
   ],
   "source": [
    "from sklearn.preprocessing import LabelEncoder\n",
    "\n",
    "df = pd.read_csv(\"../data/clean/%s.csv\" % LOCATION.value)\n",
    "print(df.head())\n",
    "\n",
    "\n",
    "y_original = df[\"TARGET\"].values\n",
    "\n",
    "X_original = df[[\n",
    "    'MONTH',\n",
    "    'DAY_OF_MONTH',\n",
    "    'WEEKDAY',\n",
    "    'HOUR',\n",
    "    'WIND_SPEED', \n",
    "    'WIND_DIRECTION', \n",
    "    'AIR_TEMPERATURE', \n",
    "    'PRECIPITATION', \n",
    "    'VISIBILITY'\n",
    "]]\n",
    "\n",
    "# Parse string features to numeric values\n",
    "le = LabelEncoder()\n",
    "le.fit(df['AIRLINE_IATA'].values)\n",
    "X_original.insert(2, \"AIRLINE_IATA\", le.transform(df['AIRLINE_IATA'].values), True) \n",
    "\n",
    "le = LabelEncoder()\n",
    "le.fit(df['FLIGHT_ID'].values)\n",
    "X_original.insert(2, \"FLIGHT_ID\", le.transform(df['FLIGHT_ID'].values), True)\n",
    "\n",
    "le = LabelEncoder()\n",
    "le.fit(df['GATE_STAND'].astype(str).values)\n",
    "X_original.insert(2, \"GATE_STAND\", le.transform(df['GATE_STAND'].astype(str).values), True)\n",
    "\n",
    "le = LabelEncoder()\n",
    "le.fit(df['INT_DOM_SCHENGEN'].values)\n",
    "X_original.insert(2, \"INT_DOM_SCHENGEN\", le.transform(df['INT_DOM_SCHENGEN'].values), True)\n",
    "\n",
    "\n",
    "le = LabelEncoder()\n",
    "le.fit(df['DEP_ARR'].values)\n",
    "X_original.insert(2, \"DEP_ARR\", le.transform(df['DEP_ARR'].values), True) \n",
    "\n",
    "le = LabelEncoder()\n",
    "le.fit(df['TO_FROM'].values)\n",
    "X_original.insert(2, \"TO_FROM\", le.transform(df['TO_FROM'].values), True)\n",
    "\n",
    "X_columns = list(X_original.columns)\n",
    "X_original = X_original.values\n",
    "\n",
    "X, y = X_original, y_original"
   ]
  },
  {
   "source": [
    "# Selecting features (F-scores & Mutual Information)\n",
    "Adapted from: https://towardsdatascience.com/dont-overfit-how-to-prevent-overfitting-in-your-deep-learning-models-63274e552323\n"
   ],
   "cell_type": "markdown",
   "metadata": {}
  },
  {
   "cell_type": "code",
   "execution_count": 8,
   "metadata": {},
   "outputs": [
    {
     "output_type": "stream",
     "name": "stdout",
     "text": [
      "Sorted features based on their F-scores:\n",
      "{'HOUR': 13980.27,\n",
      " 'INT_DOM_SCHENGEN': 3796.57,\n",
      " 'VISIBILITY': 3407.96,\n",
      " 'FLIGHT_ID': 1852.89,\n",
      " 'AIRLINE_IATA': 1713.2,\n",
      " 'WEEKDAY': 1426.94,\n",
      " 'GATE_STAND': 716.21,\n",
      " 'MONTH': 328.1,\n",
      " 'AIR_TEMPERATURE': 235.34,\n",
      " 'PRECIPITATION': 166.83,\n",
      " 'WIND_SPEED': 20.93,\n",
      " 'TO_FROM': 6.08,\n",
      " 'DAY_OF_MONTH': 2.21,\n",
      " 'WIND_DIRECTION': 2.01,\n",
      " 'DEP_ARR': 0.12}\n",
      "\n",
      "Sorted features based on their Mutual Information-score:\n",
      "{'INT_DOM_SCHENGEN': 0.0541,\n",
      " 'AIRLINE_IATA': 0.0415,\n",
      " 'VISIBILITY': 0.0406,\n",
      " 'DEP_ARR': 0.0383,\n",
      " 'FLIGHT_ID': 0.0321,\n",
      " 'WEEKDAY': 0.021,\n",
      " 'HOUR': 0.0203,\n",
      " 'MONTH': 0.0198,\n",
      " 'TO_FROM': 0.0149,\n",
      " 'AIR_TEMPERATURE': 0.0101,\n",
      " 'WIND_SPEED': 0.0098,\n",
      " 'GATE_STAND': 0.0051,\n",
      " 'WIND_DIRECTION': 0.0042,\n",
      " 'DAY_OF_MONTH': 0.0041,\n",
      " 'PRECIPITATION': 0.0009}\n"
     ]
    }
   ],
   "source": [
    "from sklearn.feature_selection import SelectKBest, f_classif, mutual_info_classif\n",
    "import pprint\n",
    "\n",
    "# For F-scores\n",
    "selector_f = SelectKBest(f_classif, k=10)\n",
    "selected_features_f = selector_f.fit_transform(X, y)\n",
    "f_score_sorted_indexes = (-selector_f.scores_).argsort()\n",
    "\n",
    "sorted_features_f = {}\n",
    "for index in f_score_sorted_indexes:\n",
    "    sorted_features_f[X_columns[index]] = float('{:.2f}'.format(selector_f.scores_[index]))\n",
    "\n",
    "print('Sorted features based on their F-scores:')\n",
    "pprint.pprint(sorted_features_f, sort_dicts=False)\n",
    "\n",
    "# For Mutual Information (MI)\n",
    "selector_mi = SelectKBest(mutual_info_classif, k=10)\n",
    "selected_features_mi = selector_mi.fit_transform(X, y)\n",
    "mi_sorted_indexes = (-selector_mi.scores_).argsort()\n",
    "\n",
    "sorted_features_mi = {}\n",
    "for index in mi_sorted_indexes:\n",
    "    sorted_features_mi[X_columns[index]] = float('{:.4f}'.format(selector_mi.scores_[index]))\n",
    "\n",
    "print('\\nSorted features based on their Mutual Information-score:')\n",
    "pprint.pprint(sorted_features_mi, sort_dicts=False)\n",
    "\n"
   ]
  },
  {
   "cell_type": "code",
   "execution_count": null,
   "metadata": {},
   "outputs": [],
   "source": []
  }
 ]
}